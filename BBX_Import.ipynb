{
 "cells": [
  {
   "cell_type": "code",
   "execution_count": 1,
   "metadata": {},
   "outputs": [],
   "source": [
    "import numpy\n",
    "from numpy import *\n",
    "from matplotlib import pyplot as plt\n",
    "from matplotlib import animation\n",
    "from matplotlib import *\n",
    "import matplotlib as mpl\n",
    "from scipy import ndimage\n",
    "import sys, os\n",
    "from IPython.display import clear_output"
   ]
  },
  {
   "cell_type": "code",
   "execution_count": 2,
   "metadata": {},
   "outputs": [],
   "source": [
    "#DEFINING FUNCTIONS\n",
    "# the authot of the BBXimportNorm function is Johannes Förster (Max Planck Institute for Intelligent Systems, Stuttgart, Germany)\n",
    "def BBXimportNorm(M, path): #exporting dynamic magnetic contrast\n",
    "    with open(path, 'rb') as f:    \n",
    "        a = fromfile(f, dtype = '>u4')   \n",
    "    N = a[0]\n",
    "    Y = a[2]\n",
    "    X = a[1]\n",
    "    Bild = zeros([Y, X, N])\n",
    "    for k in range(0, N): \n",
    "        for i in range(0, Y):\n",
    "            for j in range(0, X):\n",
    "                Bild[i, j, k * M % N]=a[3 + i + Y * j + Y * X * k]\n",
    "    \n",
    "    Normbild = zeros(shape(Bild))\n",
    "    S = mean(Bild, axis=2)\n",
    "    for i in range(0, N):\n",
    "        Normbild[:, :, i] = flip(Bild[:, :, i] / S, axis = 0)\n",
    "    del(Bild)\n",
    "    return Normbild, N\n",
    "    \n",
    "def BBXimport(M, path): #exporting the chemical contrast\n",
    "    with open(path, 'rb') as f:    \n",
    "        a = fromfile(f, dtype = '>u4')   \n",
    "    N = a[0]\n",
    "    Y = a[2]\n",
    "    X = a[1]\n",
    "    Bild = zeros([Y, X, N])\n",
    "    for k in range(0, N): \n",
    "        for i in range(0, Y):\n",
    "            for j in range(0, X):\n",
    "                Bild[i, j, k * M % N] = a[3 + i + Y * j + Y * X * k]\n",
    "    \n",
    "    Normbild = zeros(shape(Bild))\n",
    "    S = mean(Bild, axis=2)\n",
    "    for i in range(0, N):\n",
    "        Normbild[:, :, i] = flip(Bild[:, :, i], axis = 0)\n",
    "    del(Bild)\n",
    "    return Normbild, N"
   ]
  },
  {
   "cell_type": "code",
   "execution_count": 20,
   "metadata": {},
   "outputs": [
    {
     "name": "stdout",
     "output_type": "stream",
     "text": [
      "D:/Santa/Samples/StripeEasy/200924_BESSY_Oct20/STXM/Maxymus_Oct20/Santa/raw/201030/transient/M188-N7/\n"
     ]
    }
   ],
   "source": [
    "#GETTING path from user input\n",
    "import tkinter as tk\n",
    "from tkinter import filedialog\n",
    "import easygui as eg\n",
    "\n",
    "fName = ''\n",
    "\n",
    "root = tk.Tk()\n",
    "root.withdraw()\n",
    "\n",
    "path = filedialog.askdirectory() + '/'\n",
    "print(path)"
   ]
  },
  {
   "cell_type": "code",
   "execution_count": 6,
   "metadata": {},
   "outputs": [
    {
     "name": "stdout",
     "output_type": "stream",
     "text": [
      "D:/Santa/Samples/StripeEasy/200924_BESSY_Oct20/STXM/Maxymus_Oct20/Santa/analysed/201030/Cplus/200mT/\n",
      "done\n"
     ]
    }
   ],
   "source": [
    "#modifying bunch of dirs with bbx-files\n",
    "question = \"Chemical or magnetic contrast?\"\n",
    "title = \"Choose data type\"\n",
    "listOfOptions = ['chemical', 'magnetic']\n",
    "\n",
    "choice = eg.choicebox(question , title, listOfOptions)\n",
    "print(choice)\n",
    "\n",
    "#PROCESSING ALL BBX-FILES in the path:\n",
    "#path = \"D:/Santa/Samples/T-stripes/181030b_BESSY_Jan-Apr19/STXM/0_DegRot/vertical/108mT/\"\n",
    "\n",
    "for fileDir in os.listdir(path):\n",
    "    subDirName = os.path.join(path, fileDir) + '/'\n",
    "    if os.path.isdir(subDirName):\n",
    "        clear_output(wait=True)\n",
    "        print(subDirName)\n",
    "        for file in os.listdir(subDirName):\n",
    "            if file.endswith(\".bbx\"):\n",
    "                print(file)\n",
    "                a = BBXimport(125, subDirName + file)\n",
    "                data = zeros(shape(a[0]))\n",
    "\n",
    "                for i in range (0,len(a[0])):\n",
    "                    for j in range (0,len(a[0][i])):\n",
    "                        for k in range (0,a[1]):\n",
    "                            if choice == 'chemical':\n",
    "                                y = a[0][i][j][k] #MODE1 raw data (\"_%d (2).txt\")\n",
    "                            else:\n",
    "                                y = a[0][i][j][k] / (sum(a[0][i][j]) / a[1]) #MODE2 magnetic contrast (\"_%d.txt\")\n",
    "\n",
    "                            data[i, j, k] = y\n",
    "#                            print(y)\n",
    "\n",
    "                \n",
    "\n",
    "                for k in range (0, a[1]):\n",
    "                    print(k+1, '/', a[1])\n",
    "                    if choice == 'chemical':\n",
    "                        print(choice)\n",
    "                        with open(subDirName + file[:-4] + \"_%d (2).csv\" % k,'w+') as f: #MODE1\n",
    "                            for i in range (0, len(data)):\n",
    "                                for j in range (0, len(data[i])):\n",
    "                                    f.write(str(data[i, j, k]) + ',')\n",
    "                                f.write('\\n')\n",
    "                    else:\n",
    "                        print(choice)\n",
    "                        with open(subDirName + file[:-4] + \"_%d.csv\" % k,'w+') as f: #MODE2\n",
    "                            for i in range (0, len(data)):\n",
    "                                for j in range (0, len(data[i])):\n",
    "                                    f.write(str(data[i, j, k]) + ',')\n",
    "                                f.write('\\n')\n",
    "    \n",
    "                        f.close()\n",
    "#    for dirname in dirs:\n",
    "#        print(path + dirname)\n",
    "            \n",
    "print('done')"
   ]
  },
  {
   "cell_type": "code",
   "execution_count": 22,
   "metadata": {
    "scrolled": false
   },
   "outputs": [
    {
     "name": "stdout",
     "output_type": "stream",
     "text": [
      "7 / 7\n",
      "magnetic\n",
      "done\n"
     ]
    }
   ],
   "source": [
    "question = \"Chemical or magnetic contrast?\"\n",
    "title = \"Choose data type\"\n",
    "listOfOptions = ['chemical', 'magnetic']\n",
    "\n",
    "choice = eg.choicebox(question , title, listOfOptions)\n",
    "print(choice)\n",
    "\n",
    "#PROCESSING ALL BBX-FILES in the path:\n",
    "#path = \"D:/Santa/Samples/T-stripes/181030b_BESSY_Jan-Apr19/STXM/0_DegRot/vertical/108mT/\"\n",
    "\n",
    "fnames = []\n",
    "for file in os.listdir(path):\n",
    "    if file.endswith(\".bbx\"):\n",
    "        fnames.append(os.path.join(file)[:-4])\n",
    "print(fnames)\n",
    "\n",
    "for fname in fnames:\n",
    "    a = BBXimport(125, path + fname + '.bbx')\n",
    "    data = zeros(shape(a[0]))\n",
    "\n",
    "    for i in range (0,len(a[0])):\n",
    "        for j in range (0,len(a[0][i])):\n",
    "            for k in range (0,a[1]):\n",
    "                if choice == 'chemical':\n",
    "                    y = a[0][i][j][k] #MODE1 raw data (\"_%d (2).txt\")\n",
    "                else:\n",
    "                    y = a[0][i][j][k] / (sum(a[0][i][j]) / a[1]) #MODE2 magnetic contrast (\"_%d.txt\")\n",
    "\n",
    "                data[i, j, k] = y\n",
    "\n",
    "    print(y)\n",
    "\n",
    "    for k in range (0, a[1]):\n",
    "        clear_output(wait=True)\n",
    "        print(k+1, '/', a[1])\n",
    "        if choice == 'chemical':\n",
    "            print(choice)\n",
    "            with open(path + fname + \"_%d (2).csv\" % k,'w+') as f: #MODE1\n",
    "                for i in range (0, len(data)):\n",
    "                    for j in range (0, len(data[i])):\n",
    "                        f.write(str(data[i, j, k]) + ',')\n",
    "                    f.write('\\n')\n",
    "        else:\n",
    "            print(choice)\n",
    "            with open(path + fname + \"_%d.csv\" % k,'w+') as f: #MODE2\n",
    "                for i in range (0, len(data)):\n",
    "                    for j in range (0, len(data[i])):\n",
    "                        f.write(str(data[i, j, k]) + ',')\n",
    "                    f.write('\\n')\n",
    "    \n",
    "            f.close()\n",
    "\n",
    "print('done')"
   ]
  },
  {
   "cell_type": "code",
   "execution_count": 5,
   "metadata": {
    "scrolled": false
   },
   "outputs": [
    {
     "name": "stdout",
     "output_type": "stream",
     "text": [
      "chemical\n"
     ]
    }
   ],
   "source": [
    "#modified\n",
    "question = \"Chemical or magnetic contrast?\"\n",
    "title = \"Choose data type\"\n",
    "listOfOptions = ['chemical', 'magnetic']\n",
    "\n",
    "choice = eg.choicebox(question , title, listOfOptions)\n",
    "print(choice)\n",
    "\n",
    "#PROCESSING ALL BBX-FILES in the path:\n",
    "for file in os.listdir(path):\n",
    "    if file.endswith(\".bbx\"):\n",
    "        print(file)\n",
    "        a = BBXimport(125, path + file)\n",
    "        data = zeros(shape(a[0]))\n",
    "\n",
    "        for i in range (0,len(a[0])):\n",
    "            for j in range (0,len(a[0][i])):\n",
    "                for k in range (0,a[1]):\n",
    "                    if choice == 'chemical':\n",
    "                        y = a[0][i][j][k] #MODE1 raw data (\"_%d (2).txt\")\n",
    "                    else:\n",
    "                        y = a[0][i][j][k] / (sum(a[0][i][j]) / a[1]) #MODE2 magnetic contrast (\"_%d.txt\")\n",
    "\n",
    "                    data[i, j, k] = y\n",
    "\n",
    "        print(y)\n",
    "\n",
    "        for k in range (0, a[1]):\n",
    "            clear_output(wait=True)\n",
    "            print(k+1, '/', a[1])\n",
    "            if choice == 'chemical':\n",
    "                print(choice)\n",
    "                with open(path + file[:-4] + \"_%d (2).csv\" % k,'w+') as f: #MODE1\n",
    "                    for i in range (0, len(data)):\n",
    "                        for j in range (0, len(data[i])):\n",
    "                            f.write(str(data[i, j, k]) + ',')\n",
    "                        f.write('\\n')\n",
    "            else:\n",
    "                print(choice)\n",
    "                with open(path + file[:-4] + \"_%d.csv\" % k,'w+') as f: #MODE2\n",
    "                    for i in range (0, len(data)):\n",
    "                        for j in range (0, len(data[i])):\n",
    "                            f.write(str(data[i, j, k]) + ',')\n",
    "                        f.write('\\n')\n",
    "    \n",
    "                f.close()"
   ]
  },
  {
   "cell_type": "code",
   "execution_count": null,
   "metadata": {},
   "outputs": [],
   "source": []
  }
 ],
 "metadata": {
  "kernelspec": {
   "display_name": "Python 3",
   "language": "python",
   "name": "python3"
  },
  "language_info": {
   "codemirror_mode": {
    "name": "ipython",
    "version": 3
   },
   "file_extension": ".py",
   "mimetype": "text/x-python",
   "name": "python",
   "nbconvert_exporter": "python",
   "pygments_lexer": "ipython3",
   "version": "3.7.6"
  },
  "toc": {
   "base_numbering": 1,
   "nav_menu": {},
   "number_sections": true,
   "sideBar": true,
   "skip_h1_title": false,
   "title_cell": "Table of Contents",
   "title_sidebar": "Contents",
   "toc_cell": false,
   "toc_position": {},
   "toc_section_display": true,
   "toc_window_display": false
  },
  "varInspector": {
   "cols": {
    "lenName": 16,
    "lenType": 16,
    "lenVar": 40
   },
   "kernels_config": {
    "python": {
     "delete_cmd_postfix": "",
     "delete_cmd_prefix": "del ",
     "library": "var_list.py",
     "varRefreshCmd": "print(var_dic_list())"
    },
    "r": {
     "delete_cmd_postfix": ") ",
     "delete_cmd_prefix": "rm(",
     "library": "var_list.r",
     "varRefreshCmd": "cat(var_dic_list()) "
    }
   },
   "types_to_exclude": [
    "module",
    "function",
    "builtin_function_or_method",
    "instance",
    "_Feature"
   ],
   "window_display": false
  }
 },
 "nbformat": 4,
 "nbformat_minor": 4
}
