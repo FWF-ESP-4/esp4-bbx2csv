{
 "cells": [
  {
   "cell_type": "code",
   "execution_count": 1,
   "metadata": {},
   "outputs": [],
   "source": [
    "import os\n",
    "from IPython.display import clear_output\n",
    "from packages import esp4_import_functions as esp4fns\n",
    "from numpy import zeros, shape"
   ]
  },
  {
   "cell_type": "code",
   "execution_count": 2,
   "metadata": {},
   "outputs": [],
   "source": [
    "#GETTING path from user input\n",
    "path = \"/Users/santapile/Santas/Samples/StripeEasy/200924_BESSY_Oct20_45deg/STXM/Maxymus_Oct20/Santa/rawTest/201030/\""
   ]
  },
  {
   "cell_type": "code",
   "execution_count": 3,
   "metadata": {
    "scrolled": false
   },
   "outputs": [
    {
     "name": "stdout",
     "output_type": "stream",
     "text": [
      "7 / 7\n",
      "magnetic\n"
     ]
    }
   ],
   "source": [
    "listOfOptions = ['chemical', 'magnetic']\n",
    "\n",
    "for choice in listOfOptions:\n",
    "    print(choice)\n",
    "\n",
    "    #PROCESSING ALL BBX-FILES in the path:\n",
    "    for file in os.listdir(path):\n",
    "        if file.endswith(\".bbx\"):\n",
    "            print(file)\n",
    "            a = esp4fns.BBXimport(125, path + file)\n",
    "            data = zeros(shape(a[0]))\n",
    "\n",
    "            for i in range (0,len(a[0])):\n",
    "                for j in range (0,len(a[0][i])):\n",
    "                    for k in range (0,a[1]):\n",
    "                        if choice == 'chemical':\n",
    "                            y = a[0][i][j][k] #MODE1 raw data (\"_%d (2).txt\")\n",
    "                        else:\n",
    "                            y = a[0][i][j][k] / (sum(a[0][i][j]) / a[1]) #MODE2 magnetic contrast (\"_%d.txt\")\n",
    "\n",
    "                        data[i, j, k] = y\n",
    "\n",
    "            print(y)\n",
    "\n",
    "            for k in range (0, a[1]):\n",
    "                clear_output(wait=True)\n",
    "                print(k+1, '/', a[1])\n",
    "                if choice == 'chemical':\n",
    "                    print(choice)\n",
    "                    with open(path + file[:-4] + \"_%d (2).csv\" % k,'w+') as f: #MODE1\n",
    "                        for i in range (0, len(data)):\n",
    "                            for j in range (0, len(data[i])):\n",
    "                                f.write(str(data[i, j, k]) + ',')\n",
    "                            f.write('\\n')\n",
    "                else:\n",
    "                    print(choice)\n",
    "                    with open(path + file[:-4] + \"_%d.csv\" % k,'w+') as f: #MODE2\n",
    "                        for i in range (0, len(data)):\n",
    "                            for j in range (0, len(data[i])):\n",
    "                                f.write(str(data[i, j, k]) + ',')\n",
    "                            f.write('\\n')\n",
    "        \n",
    "                    f.close()"
   ]
  }
 ],
 "metadata": {
  "kernelspec": {
   "display_name": ".venv",
   "language": "python",
   "name": "python3"
  },
  "language_info": {
   "codemirror_mode": {
    "name": "ipython",
    "version": 3
   },
   "file_extension": ".py",
   "mimetype": "text/x-python",
   "name": "python",
   "nbconvert_exporter": "python",
   "pygments_lexer": "ipython3",
   "version": "3.12.8"
  },
  "toc": {
   "base_numbering": 1,
   "nav_menu": {},
   "number_sections": true,
   "sideBar": true,
   "skip_h1_title": false,
   "title_cell": "Table of Contents",
   "title_sidebar": "Contents",
   "toc_cell": false,
   "toc_position": {},
   "toc_section_display": true,
   "toc_window_display": false
  },
  "varInspector": {
   "cols": {
    "lenName": 16,
    "lenType": 16,
    "lenVar": 40
   },
   "kernels_config": {
    "python": {
     "delete_cmd_postfix": "",
     "delete_cmd_prefix": "del ",
     "library": "var_list.py",
     "varRefreshCmd": "print(var_dic_list())"
    },
    "r": {
     "delete_cmd_postfix": ") ",
     "delete_cmd_prefix": "rm(",
     "library": "var_list.r",
     "varRefreshCmd": "cat(var_dic_list()) "
    }
   },
   "types_to_exclude": [
    "module",
    "function",
    "builtin_function_or_method",
    "instance",
    "_Feature"
   ],
   "window_display": false
  }
 },
 "nbformat": 4,
 "nbformat_minor": 4
}
